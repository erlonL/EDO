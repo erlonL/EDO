{
 "cells": [
  {
   "cell_type": "code",
   "execution_count": 1,
   "metadata": {},
   "outputs": [],
   "source": [
    "import numpy as np\n",
    "import matplotlib.pyplot as plt"
   ]
  },
  {
   "cell_type": "markdown",
   "metadata": {},
   "source": [
    "# 1) Método de Adams-Bashforth-Moulton para um PVI com uma EDO"
   ]
  },
  {
   "cell_type": "code",
   "execution_count": 2,
   "metadata": {},
   "outputs": [],
   "source": [
    "def A_B(yi, h, f_i, f_imenos1):\n",
    "    return (yi + (h/2)*(3*f_i - f_imenos1))\n",
    "\n",
    "def A_M(yi, h, f_imais1, f_i, f_imenos1):\n",
    "    return (yi + (h/12)*(5*f_imais1 + 8*f_i - f_imenos1))"
   ]
  },
  {
   "cell_type": "code",
   "execution_count": 3,
   "metadata": {},
   "outputs": [],
   "source": [
    "def euler(f, x0, xf, y0, h):\n",
    "    '''\n",
    "    f: y'/y'' = f(x, y)  \n",
    "    y0: y inicial  \n",
    "    x0: x inicial  \n",
    "    xf: x final  \n",
    "    h: passo (ex. 0.1)  \n",
    "    '''\n",
    "    # para salvar os x, y por iteração\n",
    "    x = []\n",
    "    y = []\n",
    "\n",
    "    x.append(x0)\n",
    "    y.append(y0)\n",
    "\n",
    "    # de x0 a xf com passo h\n",
    "    while x[-1] < xf:\n",
    "        i = len(x) - 1\n",
    "        x.append(round((x[i] + h), 2))\n",
    "        y.append(round((y[i] + h*f(x[i], y[i])), 3))\n",
    "    return x, y"
   ]
  },
  {
   "cell_type": "code",
   "execution_count": 53,
   "metadata": {},
   "outputs": [],
   "source": [
    "def PreditorCorretor(f, x0, xf, y0, h):\n",
    "    '''\n",
    "    f: y'/y'' = f(x, y)  \n",
    "    y0: y inicial  \n",
    "    x0: x inicial  \n",
    "    xf: x final  \n",
    "    h: passo (ex. 0.1)  \n",
    "    '''\n",
    "    # para salvar os x, y por iteração\n",
    "    x = []\n",
    "    y = []\n",
    "\n",
    "    x.append(x0)\n",
    "    y.append(y0)\n",
    "\n",
    "    # calcular o primeiro y com euler\n",
    "    x_euler, y_euler = euler(f, x0, xf, y0, h)\n",
    "    x.append(x_euler[1])\n",
    "    y.append(y_euler[1])\n",
    "\n",
    "    # de x1 a xf com passo h\n",
    "    while x[-1] < xf:\n",
    "        i = len(x) - 1\n",
    "        # preditor\n",
    "        y_pred = round((y[i] + (h/2)*(3*f(x[i], y[i]) - f(x[i-1], y[i-1]))), 4)\n",
    "        # corretor, com 3 correções para cada yp\n",
    "        for j in range(3):\n",
    "            y_corr = round((y[i] + (h/12)*(5*f(x[i] + h, y_pred) + 8*f(x[i], y[i]) - f(x[i-1], y[i-1]))), 4)\n",
    "            y_pred = y_corr\n",
    "        x.append(round((x[i] + h), 2))\n",
    "        y.append(y_corr)\n",
    "    return x, y"
   ]
  },
  {
   "cell_type": "markdown",
   "metadata": {},
   "source": [
    "Exemplo\n",
    "\n",
    "$$y' = x - 2y + 1$$\n",
    "$$y(0) = 1$$\n",
    "$$h = 0.2$$\n",
    "$$0 \\leq x \\leq 0,6$$"
   ]
  },
  {
   "cell_type": "code",
   "execution_count": 48,
   "metadata": {},
   "outputs": [
    {
     "name": "stdout",
     "output_type": "stream",
     "text": [
      "0.8\n",
      "y2 calculado com A-B: 0.78\n",
      "y2 após correções: \n",
      "1  y_c:  0.75\n",
      "2  y_c:  0.755\n",
      "3  y_c:  0.7542\n"
     ]
    }
   ],
   "source": [
    "# Utilizando a lógica para calcular y2 com o exemplo da aula\n",
    "\n",
    "def f(x, y):\n",
    "    return x - 2*y + 1\n",
    "\n",
    "x, y = euler(f, 0, 0.6, 1, 0.2)\n",
    "\n",
    "print(y[1]) # usaremos como inicial para o Preditor-Corretor\n",
    "\n",
    "# A-B para calcular y2\n",
    "y2 = A_B(y[1], 0.2, f(0.2, y[1]), f(0, 1))\n",
    "print('y2 calculado com A-B:', y2)\n",
    "\n",
    "# A-M para corrigir y2, três vezes\n",
    "f0 = round(f(0, 1), 4)\n",
    "f1 = round(f(0.2, y[1]), 4)\n",
    "print('y2 após correções: ')\n",
    "for i in range(3):\n",
    "    # iteração 1\n",
    "    f_imais1 = round(f(0.4, y2), 4)\n",
    "    y2 = A_M(y[1], 0.2, f_imais1, f1, f0)\n",
    "    print(i+1, ' y_c: ', round(y2, 4))"
   ]
  },
  {
   "cell_type": "code",
   "execution_count": 56,
   "metadata": {},
   "outputs": [
    {
     "name": "stdout",
     "output_type": "stream",
     "text": [
      "Preditor-Corretor:  [1, 0.8, 0.7542, 0.754, 0.7869]\n"
     ]
    },
    {
     "data": {
      "image/png": "[encoded data removed]",
      "text/plain": [
       "<Figure size 640x480 with 1 Axes>"
      ]
     },
     "metadata": {},
     "output_type": "display_data"
    }
   ],
   "source": [
    "def f(x, y):\n",
    "    return x - 2*y + 1\n",
    "\n",
    "x, y = PreditorCorretor(f, 0, 0.8, 1, 0.2)\n",
    "\n",
    "print('Preditor-Corretor: ', y)\n",
    "\n",
    "# plotar o gráfico\n",
    "plt.plot(x, y, 'o-')\n",
    "plt.show()\n"
   ]
  }
 ],
 "metadata": {
  "kernelspec": {
   "display_name": "Python 3",
   "language": "python",
   "name": "python3"
  },
  "language_info": {
   "codemirror_mode": {
    "name": "ipython",
    "version": 3
   },
   "file_extension": ".py",
   "mimetype": "text/x-python",
   "name": "python",
   "nbconvert_exporter": "python",
   "pygments_lexer": "ipython3",
   "version": "3.10.12"
  }
 },
 "nbformat": 4,
 "nbformat_minor": 2
}
